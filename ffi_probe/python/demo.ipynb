{
 "cells": [
  {
   "cell_type": "code",
   "execution_count": 1,
   "metadata": {},
   "outputs": [],
   "source": [
    "# BOILERPLATE\n",
    "%load_ext autoreload"
   ]
  },
  {
   "cell_type": "code",
   "execution_count": 2,
   "metadata": {},
   "outputs": [
    {
     "name": "stdout",
     "output_type": "stream",
     "text": [
      "Initialized OpenDP Library\n"
     ]
    }
   ],
   "source": [
    "# SETUP\n",
    "%autoreload 2\n",
    "import opendp\n",
    "\n",
    "lib_path = \"../target/debug/libffi_probe.dylib\"\n",
    "odp = opendp.OpenDP(lib_path)"
   ]
  },
  {
   "cell_type": "code",
   "execution_count": 3,
   "metadata": {},
   "outputs": [
    {
     "name": "stdout",
     "output_type": "stream",
     "text": [
      "Data { form: \"hello, world!\" }\n"
     ]
    }
   ],
   "source": [
    "# HELLO, WORLD!\n",
    "\n",
    "# Create an identity transformation, (String) -> String\n",
    "identity = odp.ops.make_identity(b\"<String>\")\n",
    "\n",
    "# Load a string\n",
    "data = odp.data.from_string(b\"hello, world!\")\n",
    "\n",
    "# Invoke\n",
    "res = odp.core.transformation_invoke(identity, data)\n",
    "\n",
    "# Dump results\n",
    "print(odp.to_str(res))"
   ]
  },
  {
   "cell_type": "code",
   "execution_count": 4,
   "metadata": {},
   "outputs": [
    {
     "name": "stdout",
     "output_type": "stream",
     "text": [
      "Data { form: [\"a\", \"b\", \"c\", \"d\", \"e\"] }\n"
     ]
    }
   ],
   "source": [
    "# LOADING DATA\n",
    "file = \"\"\"\n",
    "a\n",
    "b\n",
    "c\n",
    "d\n",
    "e\n",
    "\"\"\"[1:].encode(\"utf-8\")\n",
    "data = odp.data.from_string(file)\n",
    "\n",
    "# Split file by line\n",
    "split_lines = odp.ops.make_split_lines()\n",
    "res = odp.core.transformation_invoke(split_lines, data)\n",
    "print(odp.to_str(res))"
   ]
  },
  {
   "cell_type": "code",
   "execution_count": 5,
   "metadata": {},
   "outputs": [
    {
     "name": "stdout",
     "output_type": "stream",
     "text": [
      "Data { form: [1, 2, 3, 4, 5] }\n",
      "Data { form: [1.0, 2.0, 3.0, 4.0, 5.0] }\n"
     ]
    }
   ],
   "source": [
    "# PARSING DATA\n",
    "file = \"\"\"\n",
    "1\n",
    "2\n",
    "3\n",
    "4\n",
    "5\n",
    "\"\"\"[1:].encode(\"utf-8\")\n",
    "data = odp.data.from_string(file)\n",
    "\n",
    "# Parse lines as integers\n",
    "split_lines = odp.ops.make_split_lines()\n",
    "parse_series = odp.ops.make_parse_series(b\"<i32>\", True)  # First arg is type, second arg is whether to impute\n",
    "split_and_parse = odp.core.make_chain_tt(parse_series, split_lines)\n",
    "res = odp.core.transformation_invoke(split_and_parse, data)\n",
    "print(odp.to_str(res))\n",
    "\n",
    "# Parse lines as floats\n",
    "split_lines = odp.ops.make_split_lines()\n",
    "parse_series = odp.ops.make_parse_series(b\"<f64>\", True)\n",
    "split_and_parse = odp.core.make_chain_tt(parse_series, split_lines)\n",
    "res = odp.core.transformation_invoke(split_and_parse, data)\n",
    "print(odp.to_str(res))"
   ]
  },
  {
   "cell_type": "code",
   "execution_count": 6,
   "metadata": {},
   "outputs": [
    {
     "name": "stdout",
     "output_type": "stream",
     "text": [
      "Data { form: {\"2\": Data { form: [10.0, 20.0, 30.0, 40.0, 50.0] }, \"0\": Data { form: [\"ant\", \"bat\", \"cat\", \"foo\", \"bar\"] }, \"1\": Data { form: [1, 2, 3, 4, 5] }} }\n"
     ]
    }
   ],
   "source": [
    "# DATAFRAMES\n",
    "file = \"\"\"\n",
    "ant, 1, 10.0\n",
    "bat, 2, 20.0\n",
    "cat, 3, 30.0\n",
    "foo, 4, 40.0\n",
    "bar, 5, 50.0\n",
    "\"\"\"[1:].encode(\"utf-8\")\n",
    "data = odp.data.from_string(file)\n",
    "\n",
    "# Split a dataframe\n",
    "split_dataframe = odp.ops.make_split_dataframe(b\",\", 3)  # First arg is separator, second arg is number of columns\n",
    "\n",
    "# Parse columns\n",
    "parse_col_1 = odp.ops.make_parse_column(b\"<i32>\", split_dataframe, b\"1\", True)  # First arg is type, second arg is input domain (via op),\n",
    "parse_col_2 = odp.ops.make_parse_column(b\"<f64>\", parse_col_1, b\"2\", True)      # third arg is column index, fourth arg is whether to impute\n",
    "\n",
    "# Chain splitting and parsing\n",
    "split_and_parse = odp.make_chain_tt_multi(parse_col_2, parse_col_1, split_dataframe)\n",
    "res = odp.core.transformation_invoke(split_and_parse, data)\n",
    "print(odp.to_str(res))"
   ]
  },
  {
   "cell_type": "code",
   "execution_count": 7,
   "metadata": {},
   "outputs": [
    {
     "name": "stdout",
     "output_type": "stream",
     "text": [
      "Data { form: 14.647584051836096 }\n"
     ]
    }
   ],
   "source": [
    "# SIMPLE OPERATIONS\n",
    "file = \"\"\"\n",
    "1\n",
    "2\n",
    "3\n",
    "4\n",
    "5\n",
    "\"\"\"[1:].encode(\"utf-8\")\n",
    "data = odp.data.from_string(file)\n",
    "\n",
    "# Split and parse lines\n",
    "split_lines = odp.ops.make_split_lines()\n",
    "parse_series = odp.ops.make_parse_series(b\"<f64>\", True)\n",
    "\n",
    "# Noisy sum\n",
    "clamp = odp.ops.make_clamp(b\"<f64>\", parse_series, odp.f64_p(0.0), odp.f64_p(10.0))\n",
    "bounded_sum = odp.ops.make_bounded_sum(b\"<f64>\", clamp)\n",
    "parse_and_sum = odp.make_chain_tt_multi(bounded_sum, clamp, parse_series, split_lines)\n",
    "base_laplace = odp.ops.make_base_laplace(b\"<f64>\", bounded_sum, 1.0)\n",
    "noisy_sum = odp.core.make_chain_mt(base_laplace, parse_and_sum)\n",
    "res = odp.core.measurement_invoke(noisy_sum, data)\n",
    "print(odp.to_str(res))"
   ]
  },
  {
   "cell_type": "code",
   "execution_count": 10,
   "metadata": {},
   "outputs": [
    {
     "name": "stdout",
     "output_type": "stream",
     "text": [
      "Data { form: (Data { form: (Data { form: 14.796925260742055 }, Data { form: 49.70705494283219 }) }, Data { form: 4.046409985310342 }) }\n"
     ]
    }
   ],
   "source": [
    "# PUTTING IT ALL TOGETHER\n",
    "file = \"\"\"\n",
    "ant, 1, 10.0\n",
    "bat, 2, 20.0\n",
    "cat, 3, 30.0\n",
    "foo, 4, 40.0\n",
    "bar, 5, 50.0\n",
    "\"\"\"[1:].encode(\"utf-8\")\n",
    "data = odp.data.from_string(file)\n",
    "\n",
    "\n",
    "# Parse dataframe\n",
    "split_dataframe = odp.ops.make_split_dataframe(b\",\", 3)\n",
    "parse_column_1 = odp.ops.make_parse_column(b\"<f64>\", split_dataframe, b\"1\", True)\n",
    "parse_column_2 = odp.ops.make_parse_column(b\"<f64>\", parse_column_1, b\"2\", True)\n",
    "parse_dataframe = odp.make_chain_tt_multi(parse_column_2, parse_column_1, split_dataframe)\n",
    "\n",
    "# Noisy sum, col 1\n",
    "select_col_1 = odp.ops.make_select_column(b\"<f64>\", parse_dataframe, b\"1\")\n",
    "clamp_col_1 = odp.ops.make_clamp(b\"<f64>\", select_col_1, odp.f64_p(0), odp.f64_p(10))\n",
    "bounded_sum_col_1 = odp.ops.make_bounded_sum(b\"<f64>\", clamp_col_1)\n",
    "base_laplace_col_1 = odp.ops.make_base_laplace(b\"<f64>\", bounded_sum_col_1, 1.0)\n",
    "noisy_sum_col_1 = odp.core.make_chain_mt(base_laplace_col_1, odp.make_chain_tt_multi(bounded_sum_col_1, clamp_col_1, select_col_1))\n",
    "\n",
    "# Noisy sum, col 2\n",
    "select_col_2 = odp.ops.make_select_column(b\"<f64>\", parse_dataframe, b\"2\")\n",
    "clamp_col_2 = odp.ops.make_clamp(b\"<f64>\", select_col_2, odp.f64_p(0.0), odp.f64_p(10.0))\n",
    "bounded_sum_col_2 = odp.ops.make_bounded_sum(b\"<f64>\", clamp_col_2)\n",
    "base_laplace_col_2 = odp.ops.make_base_laplace(b\"<f64>\", bounded_sum_col_2, 1.0)\n",
    "noisy_sum_col_2 = odp.core.make_chain_mt(base_laplace_col_2, odp.make_chain_tt_multi(bounded_sum_col_2, clamp_col_2, select_col_2))\n",
    "\n",
    "# Noisy count\n",
    "select_col_1 = odp.ops.make_select_column(b\"<f64>\", parse_dataframe, b\"1\")\n",
    "clamp_col_1 = odp.ops.make_clamp(b\"<f64>\", select_col_1, odp.f64_p(1), odp.f64_p(1))\n",
    "bounded_sum_col_1 = odp.ops.make_bounded_sum(b\"<f64>\", clamp_col_1)\n",
    "base_laplace_col_1 = odp.ops.make_base_laplace(b\"<f64>\", bounded_sum_col_1, 1.0)\n",
    "noisy_count = odp.core.make_chain_mt(base_laplace_col_1, odp.make_chain_tt_multi(bounded_sum_col_1, clamp_col_1, select_col_1))\n",
    "\n",
    "# Compose & chain\n",
    "composition = odp.core.make_composition(odp.core.make_composition(noisy_sum_col_1, noisy_sum_col_2), noisy_count)\n",
    "# composition = odp.core.make_composition(noisy_sum_col_1, noisy_sum_col_2)\n",
    "everything = odp.core.make_chain_mt(composition, parse_dataframe)\n",
    "\n",
    "# Do it!!!\n",
    "res = odp.core.measurement_invoke(everything, data)\n",
    "print(odp.to_str(res))"
   ]
  }
 ],
 "metadata": {
  "kernelspec": {
   "display_name": "Python 3",
   "language": "python",
   "name": "python3"
  },
  "language_info": {
   "codemirror_mode": {
    "name": "ipython",
    "version": 3
   },
   "file_extension": ".py",
   "mimetype": "text/x-python",
   "name": "python",
   "nbconvert_exporter": "python",
   "pygments_lexer": "ipython3",
   "version": "3.7.7"
  }
 },
 "nbformat": 4,
 "nbformat_minor": 4
}
